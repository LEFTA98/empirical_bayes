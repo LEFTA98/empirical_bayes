{
 "cells": [
  {
   "cell_type": "markdown",
   "id": "404f514d-20e6-470a-b6fd-de647f947d39",
   "metadata": {},
   "source": [
    "## Transfer learning test - scoping out SEDE data"
   ]
  },
  {
   "cell_type": "markdown",
   "id": "23553a40-ba63-458a-ae6e-1a4ae2b90722",
   "metadata": {},
   "source": [
    "### Step 0: importation of stuff"
   ]
  },
  {
   "cell_type": "code",
   "execution_count": 1,
   "id": "3028e07b-9177-4799-ada3-281a51da8e7e",
   "metadata": {},
   "outputs": [
    {
     "name": "stderr",
     "output_type": "stream",
     "text": [
      "── \u001b[1mAttaching packages\u001b[22m ─────────────────────────────────────────────────────────────────────────────────────────────────────────────────────────────────────────────────────────────────── tidyverse 1.3.1 ──\n",
      "\n",
      "\u001b[32m✔\u001b[39m \u001b[34mggplot2\u001b[39m 3.3.5     \u001b[32m✔\u001b[39m \u001b[34mpurrr  \u001b[39m 0.3.4\n",
      "\u001b[32m✔\u001b[39m \u001b[34mtibble \u001b[39m 3.1.4     \u001b[32m✔\u001b[39m \u001b[34mdplyr  \u001b[39m 1.0.7\n",
      "\u001b[32m✔\u001b[39m \u001b[34mtidyr  \u001b[39m 1.1.3     \u001b[32m✔\u001b[39m \u001b[34mstringr\u001b[39m 1.4.0\n",
      "\u001b[32m✔\u001b[39m \u001b[34mreadr  \u001b[39m 2.0.1     \u001b[32m✔\u001b[39m \u001b[34mforcats\u001b[39m 0.5.1\n",
      "\n",
      "── \u001b[1mConflicts\u001b[22m ────────────────────────────────────────────────────────────────────────────────────────────────────────────────────────────────────────────────────────────────────── tidyverse_conflicts() ──\n",
      "\u001b[31m✖\u001b[39m \u001b[34mdplyr\u001b[39m::\u001b[32mfilter()\u001b[39m masks \u001b[34mstats\u001b[39m::filter()\n",
      "\u001b[31m✖\u001b[39m \u001b[34mdplyr\u001b[39m::\u001b[32mlag()\u001b[39m    masks \u001b[34mstats\u001b[39m::lag()\n",
      "\n",
      "\n",
      "Attaching package: ‘data.table’\n",
      "\n",
      "\n",
      "The following objects are masked from ‘package:dplyr’:\n",
      "\n",
      "    between, first, last\n",
      "\n",
      "\n",
      "The following object is masked from ‘package:purrr’:\n",
      "\n",
      "    transpose\n",
      "\n",
      "\n",
      "Loading required package: startupmsg\n",
      "\n",
      "Utilities for Start-Up Messages (version 0.9.6)\n",
      "\n",
      "For more information see ?\"startupmsg\", NEWS(\"startupmsg\")\n",
      "\n",
      "\n",
      "Loading required package: sfsmisc\n",
      "\n",
      "\n",
      "Attaching package: ‘sfsmisc’\n",
      "\n",
      "\n",
      "The following object is masked from ‘package:data.table’:\n",
      "\n",
      "    last\n",
      "\n",
      "\n",
      "The following object is masked from ‘package:dplyr’:\n",
      "\n",
      "    last\n",
      "\n",
      "\n",
      "Object Oriented Implementation of Distributions (version 2.8.0)\n",
      "\n",
      "Attention: Arithmetics on distribution objects are understood as operations on corresponding random variables (r.v.s); see distrARITH().\n",
      "Some functions from package 'stats' are intentionally masked ---see distrMASK().\n",
      "Note that global options are controlled by distroptions() ---c.f. ?\"distroptions\".\n",
      "\n",
      "For more information see ?\"distr\", NEWS(\"distr\"), as well as\n",
      "  http://distr.r-forge.r-project.org/\n",
      "Package \"distrDoc\" provides a vignette to this package as well as to several extension packages; try vignette(\"distr\").\n",
      "\n",
      "\n",
      "\n",
      "Attaching package: ‘distr’\n",
      "\n",
      "\n",
      "The following objects are masked from ‘package:dplyr’:\n",
      "\n",
      "    location, n\n",
      "\n",
      "\n",
      "The following objects are masked from ‘package:stats’:\n",
      "\n",
      "    df, qqplot, sd\n",
      "\n",
      "\n"
     ]
    }
   ],
   "source": [
    "library(tidyverse)\n",
    "library(data.table)\n",
    "library(distr)"
   ]
  },
  {
   "cell_type": "markdown",
   "id": "988a8550-0162-41f3-be5d-4929cfa991d0",
   "metadata": {},
   "source": [
    "### Step 1: Exploring the data"
   ]
  },
  {
   "cell_type": "code",
   "execution_count": 2,
   "id": "5a16ce1b-0365-4bbc-8a11-9668c1a3fc72",
   "metadata": {},
   "outputs": [
    {
     "name": "stderr",
     "output_type": "stream",
     "text": [
      "\u001b[1mRows: \u001b[22m\u001b[34m50000\u001b[39m \u001b[1mColumns: \u001b[22m\u001b[34m8\u001b[39m\n",
      "\n",
      "\u001b[36m──\u001b[39m \u001b[1mColumn specification\u001b[22m \u001b[36m────────────────────────────────────────────────────────────────────────────────────────────────────────────────────────────────────────────────────────────────────────────────────\u001b[39m\n",
      "\u001b[1mDelimiter:\u001b[22m \",\"\n",
      "\u001b[31mchr\u001b[39m  (1): Tags\n",
      "\u001b[32mdbl\u001b[39m  (6): Id, PostId, Score, UserId, ViewCount, AnswerCount\n",
      "\u001b[34mdttm\u001b[39m (1): CreationDate\n",
      "\n",
      "\n",
      "\u001b[36mℹ\u001b[39m Use `spec()` to retrieve the full column specification for this data.\n",
      "\u001b[36mℹ\u001b[39m Specify the column types or set `show_col_types = FALSE` to quiet this message.\n",
      "\n"
     ]
    }
   ],
   "source": [
    "raw_df = read_csv(\"data/sede_50000_3_30.csv\")"
   ]
  },
  {
   "cell_type": "code",
   "execution_count": 3,
   "id": "42fe3f2f-e256-425a-936c-815ca89221ec",
   "metadata": {},
   "outputs": [],
   "source": [
    "raw_df = mutate(raw_df, Score = as.integer(Score), ViewCount = as.integer(ViewCount), AnswerCount = as.integer(AnswerCount))"
   ]
  },
  {
   "cell_type": "code",
   "execution_count": 4,
   "id": "62b1c325-be46-429e-880b-2701d40663bb",
   "metadata": {},
   "outputs": [
    {
     "data": {
      "text/html": [
       "<table class=\"dataframe\">\n",
       "<caption>A tibble: 6 × 8</caption>\n",
       "<thead>\n",
       "\t<tr><th scope=col>Id</th><th scope=col>PostId</th><th scope=col>Score</th><th scope=col>CreationDate</th><th scope=col>UserId</th><th scope=col>Tags</th><th scope=col>ViewCount</th><th scope=col>AnswerCount</th></tr>\n",
       "\t<tr><th scope=col>&lt;dbl&gt;</th><th scope=col>&lt;dbl&gt;</th><th scope=col>&lt;int&gt;</th><th scope=col>&lt;dttm&gt;</th><th scope=col>&lt;dbl&gt;</th><th scope=col>&lt;chr&gt;</th><th scope=col>&lt;int&gt;</th><th scope=col>&lt;int&gt;</th></tr>\n",
       "</thead>\n",
       "<tbody>\n",
       "\t<tr><td>120453196</td><td>68152730</td><td>163</td><td>2021-06-27 15:53:10</td><td> 1169091</td><td><span style=white-space:pre-wrap>&lt;python&gt;&lt;python-3.x&gt;&lt;list&gt;&lt;indexing&gt;&lt;swap&gt;                            </span></td><td> 20680</td><td> 8</td></tr>\n",
       "\t<tr><td>124341718</td><td>70340719</td><td> 97</td><td>2021-12-13 20:49:56</td><td> 2410359</td><td>&lt;c++&gt;&lt;arrays&gt;&lt;initialization&gt;&lt;undefined-behavior&gt;&lt;zero-initialization&gt;</td><td><span style=white-space:pre-wrap>  5668</span></td><td> 5</td></tr>\n",
       "\t<tr><td>120453231</td><td>68152730</td><td> 88</td><td>2021-06-27 15:55:31</td><td> 1169091</td><td><span style=white-space:pre-wrap>&lt;python&gt;&lt;python-3.x&gt;&lt;list&gt;&lt;indexing&gt;&lt;swap&gt;                            </span></td><td> 20680</td><td> 8</td></tr>\n",
       "\t<tr><td>124341696</td><td>70340719</td><td> 82</td><td>2021-12-13 20:48:37</td><td>10686048</td><td>&lt;c++&gt;&lt;arrays&gt;&lt;initialization&gt;&lt;undefined-behavior&gt;&lt;zero-initialization&gt;</td><td><span style=white-space:pre-wrap>  5668</span></td><td> 5</td></tr>\n",
       "\t<tr><td>125582897</td><td>71039947</td><td> 78</td><td>2022-02-08 20:11:24</td><td> 1196549</td><td><span style=white-space:pre-wrap>&lt;c++&gt;&lt;optimization&gt;&lt;benchmarking&gt;&lt;branch-prediction&gt;                  </span></td><td><span style=white-space:pre-wrap>  9565</span></td><td> 9</td></tr>\n",
       "\t<tr><td>121180438</td><td> 1642028</td><td> 74</td><td>2021-07-29 00:16:35</td><td><span style=white-space:pre-wrap>  204555</span></td><td><span style=white-space:pre-wrap>&lt;c&gt;&lt;operators&gt;&lt;code-formatting&gt;&lt;standards-compliance&gt;                 </span></td><td>906056</td><td>29</td></tr>\n",
       "</tbody>\n",
       "</table>\n"
      ],
      "text/latex": [
       "A tibble: 6 × 8\n",
       "\\begin{tabular}{llllllll}\n",
       " Id & PostId & Score & CreationDate & UserId & Tags & ViewCount & AnswerCount\\\\\n",
       " <dbl> & <dbl> & <int> & <dttm> & <dbl> & <chr> & <int> & <int>\\\\\n",
       "\\hline\n",
       "\t 120453196 & 68152730 & 163 & 2021-06-27 15:53:10 &  1169091 & <python><python-3.x><list><indexing><swap>                             &  20680 &  8\\\\\n",
       "\t 124341718 & 70340719 &  97 & 2021-12-13 20:49:56 &  2410359 & <c++><arrays><initialization><undefined-behavior><zero-initialization> &   5668 &  5\\\\\n",
       "\t 120453231 & 68152730 &  88 & 2021-06-27 15:55:31 &  1169091 & <python><python-3.x><list><indexing><swap>                             &  20680 &  8\\\\\n",
       "\t 124341696 & 70340719 &  82 & 2021-12-13 20:48:37 & 10686048 & <c++><arrays><initialization><undefined-behavior><zero-initialization> &   5668 &  5\\\\\n",
       "\t 125582897 & 71039947 &  78 & 2022-02-08 20:11:24 &  1196549 & <c++><optimization><benchmarking><branch-prediction>                   &   9565 &  9\\\\\n",
       "\t 121180438 &  1642028 &  74 & 2021-07-29 00:16:35 &   204555 & <c><operators><code-formatting><standards-compliance>                  & 906056 & 29\\\\\n",
       "\\end{tabular}\n"
      ],
      "text/markdown": [
       "\n",
       "A tibble: 6 × 8\n",
       "\n",
       "| Id &lt;dbl&gt; | PostId &lt;dbl&gt; | Score &lt;int&gt; | CreationDate &lt;dttm&gt; | UserId &lt;dbl&gt; | Tags &lt;chr&gt; | ViewCount &lt;int&gt; | AnswerCount &lt;int&gt; |\n",
       "|---|---|---|---|---|---|---|---|\n",
       "| 120453196 | 68152730 | 163 | 2021-06-27 15:53:10 |  1169091 | &lt;python&gt;&lt;python-3.x&gt;&lt;list&gt;&lt;indexing&gt;&lt;swap&gt;                             |  20680 |  8 |\n",
       "| 124341718 | 70340719 |  97 | 2021-12-13 20:49:56 |  2410359 | &lt;c++&gt;&lt;arrays&gt;&lt;initialization&gt;&lt;undefined-behavior&gt;&lt;zero-initialization&gt; |   5668 |  5 |\n",
       "| 120453231 | 68152730 |  88 | 2021-06-27 15:55:31 |  1169091 | &lt;python&gt;&lt;python-3.x&gt;&lt;list&gt;&lt;indexing&gt;&lt;swap&gt;                             |  20680 |  8 |\n",
       "| 124341696 | 70340719 |  82 | 2021-12-13 20:48:37 | 10686048 | &lt;c++&gt;&lt;arrays&gt;&lt;initialization&gt;&lt;undefined-behavior&gt;&lt;zero-initialization&gt; |   5668 |  5 |\n",
       "| 125582897 | 71039947 |  78 | 2022-02-08 20:11:24 |  1196549 | &lt;c++&gt;&lt;optimization&gt;&lt;benchmarking&gt;&lt;branch-prediction&gt;                   |   9565 |  9 |\n",
       "| 121180438 |  1642028 |  74 | 2021-07-29 00:16:35 |   204555 | &lt;c&gt;&lt;operators&gt;&lt;code-formatting&gt;&lt;standards-compliance&gt;                  | 906056 | 29 |\n",
       "\n"
      ],
      "text/plain": [
       "  Id        PostId   Score CreationDate        UserId  \n",
       "1 120453196 68152730 163   2021-06-27 15:53:10  1169091\n",
       "2 124341718 70340719  97   2021-12-13 20:49:56  2410359\n",
       "3 120453231 68152730  88   2021-06-27 15:55:31  1169091\n",
       "4 124341696 70340719  82   2021-12-13 20:48:37 10686048\n",
       "5 125582897 71039947  78   2022-02-08 20:11:24  1196549\n",
       "6 121180438  1642028  74   2021-07-29 00:16:35   204555\n",
       "  Tags                                                                  \n",
       "1 <python><python-3.x><list><indexing><swap>                            \n",
       "2 <c++><arrays><initialization><undefined-behavior><zero-initialization>\n",
       "3 <python><python-3.x><list><indexing><swap>                            \n",
       "4 <c++><arrays><initialization><undefined-behavior><zero-initialization>\n",
       "5 <c++><optimization><benchmarking><branch-prediction>                  \n",
       "6 <c><operators><code-formatting><standards-compliance>                 \n",
       "  ViewCount AnswerCount\n",
       "1  20680     8         \n",
       "2   5668     5         \n",
       "3  20680     8         \n",
       "4   5668     5         \n",
       "5   9565     9         \n",
       "6 906056    29         "
      ]
     },
     "metadata": {},
     "output_type": "display_data"
    }
   ],
   "source": [
    "head(raw_df)"
   ]
  },
  {
   "cell_type": "code",
   "execution_count": 5,
   "id": "aceb5e0d-fc55-4336-9d3c-16f6ce9ab873",
   "metadata": {},
   "outputs": [
    {
     "data": {
      "image/png": "[encoded data removed]",
      "text/plain": [
       "plot without title"
      ]
     },
     "metadata": {
      "image/png": {
       "height": 420,
       "width": 420
      }
     },
     "output_type": "display_data"
    }
   ],
   "source": [
    "ggplot(raw_df, aes(x=Score)) + geom_histogram(binwidth=1)"
   ]
  },
  {
   "cell_type": "code",
   "execution_count": 6,
   "id": "f7148f5b-4979-4d04-a3e3-ada1678ce03e",
   "metadata": {},
   "outputs": [
    {
     "data": {
      "text/html": [
       "<table class=\"dataframe\">\n",
       "<caption>A tibble: 6 × 2</caption>\n",
       "<thead>\n",
       "\t<tr><th scope=col>UserId</th><th scope=col>n</th></tr>\n",
       "\t<tr><th scope=col>&lt;dbl&gt;</th><th scope=col>&lt;int&gt;</th></tr>\n",
       "</thead>\n",
       "<tbody>\n",
       "\t<tr><td>1491895</td><td>737</td></tr>\n",
       "\t<tr><td> 440558</td><td>505</td></tr>\n",
       "\t<tr><td>2029983</td><td>505</td></tr>\n",
       "\t<tr><td>4117728</td><td>291</td></tr>\n",
       "\t<tr><td>3003365</td><td>280</td></tr>\n",
       "\t<tr><td>3689450</td><td>246</td></tr>\n",
       "</tbody>\n",
       "</table>\n"
      ],
      "text/latex": [
       "A tibble: 6 × 2\n",
       "\\begin{tabular}{ll}\n",
       " UserId & n\\\\\n",
       " <dbl> & <int>\\\\\n",
       "\\hline\n",
       "\t 1491895 & 737\\\\\n",
       "\t  440558 & 505\\\\\n",
       "\t 2029983 & 505\\\\\n",
       "\t 4117728 & 291\\\\\n",
       "\t 3003365 & 280\\\\\n",
       "\t 3689450 & 246\\\\\n",
       "\\end{tabular}\n"
      ],
      "text/markdown": [
       "\n",
       "A tibble: 6 × 2\n",
       "\n",
       "| UserId &lt;dbl&gt; | n &lt;int&gt; |\n",
       "|---|---|\n",
       "| 1491895 | 737 |\n",
       "|  440558 | 505 |\n",
       "| 2029983 | 505 |\n",
       "| 4117728 | 291 |\n",
       "| 3003365 | 280 |\n",
       "| 3689450 | 246 |\n",
       "\n"
      ],
      "text/plain": [
       "  UserId  n  \n",
       "1 1491895 737\n",
       "2  440558 505\n",
       "3 2029983 505\n",
       "4 4117728 291\n",
       "5 3003365 280\n",
       "6 3689450 246"
      ]
     },
     "metadata": {},
     "output_type": "display_data"
    },
    {
     "data": {
      "image/png": "[encoded data removed]",
      "text/plain": [
       "plot without title"
      ]
     },
     "metadata": {
      "image/png": {
       "height": 420,
       "width": 420
      }
     },
     "output_type": "display_data"
    }
   ],
   "source": [
    "count_df = raw_df %>% count(UserId) %>% arrange(desc(n))\n",
    "\n",
    "head(count_df)\n",
    "ggplot(count_df, aes(x=n)) + geom_histogram(binwidth=1)"
   ]
  },
  {
   "cell_type": "code",
   "execution_count": 7,
   "id": "85745377-d38a-4d67-8db2-578d113bba02",
   "metadata": {},
   "outputs": [
    {
     "data": {
      "text/html": [
       "353"
      ],
      "text/latex": [
       "353"
      ],
      "text/markdown": [
       "353"
      ],
      "text/plain": [
       "[1] 353"
      ]
     },
     "metadata": {},
     "output_type": "display_data"
    }
   ],
   "source": [
    "nrow(filter(count_df, n >= 30))"
   ]
  },
  {
   "cell_type": "code",
   "execution_count": 8,
   "id": "ebd5bbd2-697d-49ef-a0f3-781a98389de4",
   "metadata": {},
   "outputs": [],
   "source": [
    "# is there a more time-efficient way to generate all tags?\n",
    "\n",
    "tags = c()\n",
    "for (i in c(1:nrow(raw_df))) {\n",
    "    s = raw_df$Tags[i]\n",
    "    s = as.list(strsplit(s, split=\"><\")[[1]]) # why do I need to do this stupid syntax for full conversion\n",
    "    s[1] = substring(s[1], 2)\n",
    "    s[length(s)] = substring(s[length(s)],1,nchar(s[length(s)])-1)\n",
    "    tags = union(tags, s)\n",
    "#     print(s[1])\n",
    "}\n",
    "tags <- unlist(tags)"
   ]
  },
  {
   "cell_type": "code",
   "execution_count": 9,
   "id": "0c549a14-d177-49f5-b88c-ff56eb89cd50",
   "metadata": {},
   "outputs": [],
   "source": [
    "tags_df = data.frame(matrix(ncol=2,nrow=0))\n",
    "for (i in c(1:length(tags))) {\n",
    "    occurrences = nrow(filter(raw_df, grepl(paste(\"<\",tags[i],\">\",sep=\"\"), raw_df$Tags, fixed=TRUE)))\n",
    "    tags_df= rbind(tags_df, c(tags[i], occurrences))\n",
    "}\n",
    "colnames(tags_df) <- c('tag', 'occurrences')"
   ]
  },
  {
   "cell_type": "code",
   "execution_count": 10,
   "id": "e2e61ab7-5bf9-44f7-8703-104da49c7445",
   "metadata": {},
   "outputs": [],
   "source": [
    "tags_df$occurrences <- as.numeric(tags_df$occurrences)"
   ]
  },
  {
   "cell_type": "code",
   "execution_count": 11,
   "id": "829eba66-d823-409a-9ce7-b8c02ecb2c5a",
   "metadata": {},
   "outputs": [
    {
     "data": {
      "text/html": [
       "<table class=\"dataframe\">\n",
       "<caption>A data.frame: 10 × 2</caption>\n",
       "<thead>\n",
       "\t<tr><th></th><th scope=col>tag</th><th scope=col>occurrences</th></tr>\n",
       "\t<tr><th></th><th scope=col>&lt;chr&gt;</th><th scope=col>&lt;dbl&gt;</th></tr>\n",
       "</thead>\n",
       "<tbody>\n",
       "\t<tr><th scope=row>1</th><td>python    </td><td>8171</td></tr>\n",
       "\t<tr><th scope=row>2</th><td>c++       </td><td>7832</td></tr>\n",
       "\t<tr><th scope=row>3</th><td>javascript</td><td>5182</td></tr>\n",
       "\t<tr><th scope=row>4</th><td>c         </td><td>4686</td></tr>\n",
       "\t<tr><th scope=row>5</th><td>java      </td><td>3875</td></tr>\n",
       "\t<tr><th scope=row>6</th><td>c#        </td><td>3644</td></tr>\n",
       "\t<tr><th scope=row>7</th><td>sql       </td><td>2373</td></tr>\n",
       "\t<tr><th scope=row>8</th><td>arrays    </td><td>1958</td></tr>\n",
       "\t<tr><th scope=row>9</th><td>sql-server</td><td>1865</td></tr>\n",
       "\t<tr><th scope=row>10</th><td>php       </td><td>1457</td></tr>\n",
       "</tbody>\n",
       "</table>\n"
      ],
      "text/latex": [
       "A data.frame: 10 × 2\n",
       "\\begin{tabular}{r|ll}\n",
       "  & tag & occurrences\\\\\n",
       "  & <chr> & <dbl>\\\\\n",
       "\\hline\n",
       "\t1 & python     & 8171\\\\\n",
       "\t2 & c++        & 7832\\\\\n",
       "\t3 & javascript & 5182\\\\\n",
       "\t4 & c          & 4686\\\\\n",
       "\t5 & java       & 3875\\\\\n",
       "\t6 & c\\#         & 3644\\\\\n",
       "\t7 & sql        & 2373\\\\\n",
       "\t8 & arrays     & 1958\\\\\n",
       "\t9 & sql-server & 1865\\\\\n",
       "\t10 & php        & 1457\\\\\n",
       "\\end{tabular}\n"
      ],
      "text/markdown": [
       "\n",
       "A data.frame: 10 × 2\n",
       "\n",
       "| <!--/--> | tag &lt;chr&gt; | occurrences &lt;dbl&gt; |\n",
       "|---|---|---|\n",
       "| 1 | python     | 8171 |\n",
       "| 2 | c++        | 7832 |\n",
       "| 3 | javascript | 5182 |\n",
       "| 4 | c          | 4686 |\n",
       "| 5 | java       | 3875 |\n",
       "| 6 | c#         | 3644 |\n",
       "| 7 | sql        | 2373 |\n",
       "| 8 | arrays     | 1958 |\n",
       "| 9 | sql-server | 1865 |\n",
       "| 10 | php        | 1457 |\n",
       "\n"
      ],
      "text/plain": [
       "   tag        occurrences\n",
       "1  python     8171       \n",
       "2  c++        7832       \n",
       "3  javascript 5182       \n",
       "4  c          4686       \n",
       "5  java       3875       \n",
       "6  c#         3644       \n",
       "7  sql        2373       \n",
       "8  arrays     1958       \n",
       "9  sql-server 1865       \n",
       "10 php        1457       "
      ]
     },
     "metadata": {},
     "output_type": "display_data"
    }
   ],
   "source": [
    "head(arrange(tags_df, desc(occurrences)), 10)"
   ]
  },
  {
   "cell_type": "markdown",
   "id": "b040a19a-1e92-4811-83cb-acc3661954ad",
   "metadata": {},
   "source": [
    "## Step 2: Filter out the data into in-sample and out-of-sample, using select tags"
   ]
  },
  {
   "cell_type": "code",
   "execution_count": 12,
   "id": "d94e47bc-ef1f-479b-bcdb-7c1c7382bcfd",
   "metadata": {},
   "outputs": [],
   "source": [
    "python_df = filter(raw_df, grepl(\"<python>\", raw_df$Tags, fixed=TRUE))\n",
    "cplusplus_df = filter(raw_df, grepl(\"<c++>\", raw_df$Tags, fixed=TRUE))\n",
    "javascript_df = filter(raw_df, grepl(\"<javascript>\", raw_df$Tags, fixed=TRUE))\n",
    "c_df = filter(raw_df, grepl(\"<c>\", raw_df$Tags, fixed=TRUE))\n",
    "java_df = filter(raw_df, grepl(\"<java>\", raw_df$Tags, fixed=TRUE))"
   ]
  },
  {
   "cell_type": "code",
   "execution_count": 13,
   "id": "93e17910-c91e-4fdc-b7d3-63f96e13cd93",
   "metadata": {},
   "outputs": [],
   "source": [
    "python_counts = python_df %>% select(c(UserId, Score)) %>% count(UserId) %>% filter(n>20)\n",
    "cplusplus_counts = cplusplus_df %>% select(c(UserId, Score)) %>% count(UserId) %>% filter(n>20)\n",
    "javascript_counts = javascript_df %>% select(c(UserId, Score)) %>% count(UserId) %>% filter(n>20)\n",
    "c_counts = c_df %>% select(c(UserId, Score)) %>% count(UserId) %>% filter(n>20)\n",
    "java_counts = java_df %>% select(c(UserId, Score)) %>% count(UserId) %>% filter(n>20)"
   ]
  },
  {
   "cell_type": "code",
   "execution_count": 14,
   "id": "5e1b10c2-0814-466a-9801-fa803c83dbf1",
   "metadata": {},
   "outputs": [],
   "source": [
    "python_df = merge(python_counts, python_df, by=\"UserId\")\n",
    "cplusplus_df = merge(cplusplus_counts, cplusplus_df, by=\"UserId\")\n",
    "javascript_df = merge(javascript_counts, javascript_df, by=\"UserId\")\n",
    "c_df = merge(c_counts, c_df, by=\"UserId\")\n",
    "java_df = merge(java_counts, java_df, by=\"UserId\")"
   ]
  },
  {
   "cell_type": "code",
   "execution_count": 15,
   "id": "b0694d8c-8a16-4686-b2e5-b85b48305c0c",
   "metadata": {},
   "outputs": [],
   "source": [
    "set.seed(1729)\n",
    "\n",
    "in_sample_python = sample(unique(python_df$UserId), size = 0.8*length(unique(python_df$UserId)))\n",
    "python_df.in = filter(python_df, UserId %in% in_sample_python)\n",
    "python_df.out = filter(python_df, !UserId %in% in_sample_python)\n",
    "\n",
    "in_sample_cplusplus = sample(unique(cplusplus_df$UserId), size = 0.8*length(unique(cplusplus_df$UserId)))\n",
    "cplusplus_df.in = filter(cplusplus_df, UserId %in% in_sample_cplusplus)\n",
    "cplusplus_df.out = filter(cplusplus_df, !UserId %in% in_sample_cplusplus)\n",
    "\n",
    "in_sample_javascript = sample(unique(javascript_df$UserId), size = 0.8*length(unique(javascript_df$UserId)))\n",
    "javascript_df.in = filter(javascript_df, UserId %in% in_sample_javascript)\n",
    "javascript_df.out = filter(javascript_df, !UserId %in% in_sample_javascript)\n",
    "\n",
    "in_sample_c = sample(unique(c_df$UserId), size = 0.8*length(unique(c_df$UserId)))\n",
    "c_df.in = filter(c_df, UserId %in% in_sample_c)\n",
    "c_df.out = filter(c_df, !UserId %in% in_sample_c)\n",
    "\n",
    "in_sample_java = sample(unique(java_df$UserId), size = 0.8*length(unique(java_df$UserId)))\n",
    "java_df.in = filter(java_df, UserId %in% in_sample_java)\n",
    "java_df.out = filter(java_df, !UserId %in% in_sample_java)"
   ]
  },
  {
   "cell_type": "markdown",
   "id": "a7858487-9219-485c-a77c-9a206b92ba6d",
   "metadata": {},
   "source": [
    "## Step 3: Train the EB Model"
   ]
  },
  {
   "cell_type": "markdown",
   "id": "5451915b-b62d-4571-97e7-0a8d149d764a",
   "metadata": {},
   "source": [
    "We'll be using a Poisson DGP with a Gamma prior, assuming all comments had the same window to accumulate points."
   ]
  },
  {
   "cell_type": "code",
   "execution_count": 16,
   "id": "e8bd7435-edfe-4be9-beb3-4300af806315",
   "metadata": {},
   "outputs": [],
   "source": [
    "in_sample_data <- list(python_in = python_df.in,\n",
    "                       cplusplus_in = cplusplus_df.in,\n",
    "                       javascript_in = javascript_df.in,\n",
    "                       c_in = c_df.in,\n",
    "                       java_in = java_df.in)\n",
    "\n",
    "in_sample_names = c(\"python_in\", \"cplusplus_in\", \"javascript_in\", \"c_in\", \"java_in\")"
   ]
  },
  {
   "cell_type": "code",
   "execution_count": 18,
   "id": "9821aedd-1dc9-4934-b430-9db2dbd3cabf",
   "metadata": {},
   "outputs": [],
   "source": [
    "priors_df <- data.frame(matrix(ncol=3,nrow=0))\n",
    "\n",
    "for (i in c(1:5)) {\n",
    "    prior_df <- in_sample_data[[in_sample_names[i]]]\n",
    "    prior_df <- group_by(prior_df, UserId) %>% summarize(avgScore = mean(Score))\n",
    "    name <- in_sample_names[i]\n",
    "    \n",
    "    # alpha calculation derived from wikipedia - look more into theory here\n",
    "    s <- log(mean(prior_df$avgScore)) - mean(log(prior_df$avgScore))\n",
    "    alpha_est <- (3 - s + sqrt((s-3)^2 + 24 * s))/(12*s)\n",
    "    \n",
    "    # newton-raphson update\n",
    "    for (i in c(1:20)) {\n",
    "        alpha_est <- alpha_est - (log(alpha_est) - digamma(alpha_est) - s)/(1/alpha_est - trigamma(alpha_est))\n",
    "    }\n",
    "    \n",
    "    beta_est <- 1/(mean(prior_df$avgScore)/alpha_est)\n",
    "    \n",
    "    priors_df <- rbind(priors_df, c(name, alpha_est, beta_est))\n",
    "    \n",
    "}\n",
    "colnames(priors_df) <- c('name', 'alpha', 'beta')\n",
    "priors_df$alpha <- as.numeric(priors_df$alpha)\n",
    "priors_df$beta <- as.numeric(priors_df$beta)"
   ]
  },
  {
   "cell_type": "code",
   "execution_count": 29,
   "id": "98a53cff-402d-4b20-bb1b-138343d26f58",
   "metadata": {},
   "outputs": [
    {
     "data": {
      "text/html": [
       "<table class=\"dataframe\">\n",
       "<caption>A data.frame: 5 × 3</caption>\n",
       "<thead>\n",
       "\t<tr><th scope=col>name</th><th scope=col>alpha</th><th scope=col>beta</th></tr>\n",
       "\t<tr><th scope=col>&lt;chr&gt;</th><th scope=col>&lt;dbl&gt;</th><th scope=col>&lt;dbl&gt;</th></tr>\n",
       "</thead>\n",
       "<tbody>\n",
       "\t<tr><td>python_in    </td><td>122.9263</td><td>30.51586</td></tr>\n",
       "\t<tr><td>cplusplus_in </td><td>104.5532</td><td>23.70599</td></tr>\n",
       "\t<tr><td>javascript_in</td><td>295.2146</td><td>76.56995</td></tr>\n",
       "\t<tr><td>c_in         </td><td>192.3016</td><td>45.10828</td></tr>\n",
       "\t<tr><td>java_in      </td><td>194.2652</td><td>48.29434</td></tr>\n",
       "</tbody>\n",
       "</table>\n"
      ],
      "text/latex": [
       "A data.frame: 5 × 3\n",
       "\\begin{tabular}{lll}\n",
       " name & alpha & beta\\\\\n",
       " <chr> & <dbl> & <dbl>\\\\\n",
       "\\hline\n",
       "\t python\\_in     & 122.9263 & 30.51586\\\\\n",
       "\t cplusplus\\_in  & 104.5532 & 23.70599\\\\\n",
       "\t javascript\\_in & 295.2146 & 76.56995\\\\\n",
       "\t c\\_in          & 192.3016 & 45.10828\\\\\n",
       "\t java\\_in       & 194.2652 & 48.29434\\\\\n",
       "\\end{tabular}\n"
      ],
      "text/markdown": [
       "\n",
       "A data.frame: 5 × 3\n",
       "\n",
       "| name &lt;chr&gt; | alpha &lt;dbl&gt; | beta &lt;dbl&gt; |\n",
       "|---|---|---|\n",
       "| python_in     | 122.9263 | 30.51586 |\n",
       "| cplusplus_in  | 104.5532 | 23.70599 |\n",
       "| javascript_in | 295.2146 | 76.56995 |\n",
       "| c_in          | 192.3016 | 45.10828 |\n",
       "| java_in       | 194.2652 | 48.29434 |\n",
       "\n"
      ],
      "text/plain": [
       "  name          alpha    beta    \n",
       "1 python_in     122.9263 30.51586\n",
       "2 cplusplus_in  104.5532 23.70599\n",
       "3 javascript_in 295.2146 76.56995\n",
       "4 c_in          192.3016 45.10828\n",
       "5 java_in       194.2652 48.29434"
      ]
     },
     "metadata": {},
     "output_type": "display_data"
    }
   ],
   "source": [
    "priors_df"
   ]
  },
  {
   "cell_type": "code",
   "execution_count": null,
   "id": "fa2c8693-119c-47e4-9d4f-660bb4e69482",
   "metadata": {},
   "outputs": [],
   "source": []
  },
  {
   "cell_type": "markdown",
   "id": "8bc19979-5070-42bc-9a3e-8787d5c9d653",
   "metadata": {},
   "source": [
    "## Step 4: Test performance on test set"
   ]
  },
  {
   "cell_type": "code",
   "execution_count": 20,
   "id": "11efcc53-45fc-4279-91f6-42dfd4b56c4e",
   "metadata": {},
   "outputs": [],
   "source": [
    "out_sample_data <- list(python_out = python_df.out,\n",
    "                       cplusplus_out = cplusplus_df.out,\n",
    "                       javascript_out = javascript_df.out,\n",
    "                       c_out = c_df.out,\n",
    "                       java_out = java_df.out)\n",
    "\n",
    "out_sample_names = c(\"python_out\", \"cplusplus_out\", \"javascript_out\", \"c_out\", \"java_out\")"
   ]
  },
  {
   "cell_type": "code",
   "execution_count": 21,
   "id": "cf25bc0b-7e3e-4f1c-8550-34b5ff991753",
   "metadata": {},
   "outputs": [],
   "source": [
    "out_sample_subset <- list(python_out = python_df.out,\n",
    "                       cplusplus_out = cplusplus_df.out,\n",
    "                       javascript_out = javascript_df.out,\n",
    "                       c_out = c_df.out,\n",
    "                       java_out = java_df.out)\n",
    "out_sample_train <- list(python_out = 0, cplusplus_out = 0, javascript_out = 0, c_out = 0, java_out = 0)\n",
    "out_sample_test <- list(python_out = 0, cplusplus_out = 0, javascript_out = 0, c_out = 0, java_out = 0)"
   ]
  },
  {
   "cell_type": "code",
   "execution_count": 22,
   "id": "1df9e8c6-0676-4099-9652-db08abcacae2",
   "metadata": {},
   "outputs": [],
   "source": [
    "for (i in c(1:5)) {\n",
    "    temp <- filter(out_sample_subset[[i]], n >= 20) %>%\n",
    "      group_by(UserId) %>% \n",
    "      arrange(CreationDate, .by_group = TRUE) %>%\n",
    "      slice_head(n=20)\n",
    "    out_sample_subset[[i]] = temp\n",
    "    out_sample_train[[i]] = group_by(temp, UserId) %>% \n",
    "      arrange(CreationDate, .by_group = TRUE) %>%\n",
    "      slice_head(n=10)\n",
    "    out_sample_test[[i]] = group_by(temp, UserId) %>% \n",
    "      arrange(CreationDate, .by_group = TRUE) %>%\n",
    "      slice_tail(n=10)\n",
    "\n",
    "}"
   ]
  },
  {
   "cell_type": "code",
   "execution_count": 23,
   "id": "15f49074-0ce8-438e-bd75-044ab85635da",
   "metadata": {},
   "outputs": [],
   "source": [
    "results_df <- data.frame(matrix(ncol=5,nrow=0))\n",
    "\n",
    "for (i in c(1:5)) {\n",
    "    out_sample <- out_sample_train[[out_sample_names[i]]]\n",
    "    avg_df <- out_sample_subset[[out_sample_names[i]]] %>% group_by(UserId) %>% summarize(avgScore = mean(Score))\n",
    "    out_sample <- merge(out_sample, avg_df, by=\"UserId\")\n",
    "    alpha <- drop(priors_df[i,]$alpha)\n",
    "    beta <- drop(priors_df[i,]$beta)\n",
    "    \n",
    "    for (id in unique(out_sample$UserId)) {\n",
    "        user_out_sample <- filter(out_sample, UserId==id)\n",
    "        avg_score <- drop(user_out_sample$avgScore[1])\n",
    "        user_alpha <- alpha + sum(user_out_sample$Score)\n",
    "        user_beta <- beta + nrow(user_out_sample)\n",
    "        theta_b <- (user_alpha - 1)/user_beta # MAP estimate\n",
    "        theta_f <- mean(user_out_sample$Score) # MLE estimate in frequentist setting\n",
    "        to_add <- c(out_sample_names[i], id, avg_score, theta_b, 'eb')\n",
    "        results_df <- rbind(results_df, to_add)\n",
    "        to_add <- c(out_sample_names[i], id, avg_score, theta_f, 'freq')\n",
    "        results_df <- rbind(results_df, to_add)\n",
    "    }\n",
    "}\n",
    "\n",
    "colnames(results_df) <- c('dataset', 'user', 'avg', 'estimated', 'method')\n",
    "\n",
    "results_df$avg = as.numeric(results_df$avg)\n",
    "results_df$estimated = as.numeric(results_df$estimated)"
   ]
  },
  {
   "cell_type": "code",
   "execution_count": 24,
   "id": "c87add02-162f-4ace-af99-0342eee58cb9",
   "metadata": {},
   "outputs": [],
   "source": [
    "quantiles_df <- group_by(results_df, dataset) %>%\n",
    "                summarize(quant25 = quantile(avg, probs = 0.25), \n",
    "                          quant50 = quantile(avg, probs = 0.5),\n",
    "                          quant75 = quantile(avg, probs = 0.75))"
   ]
  },
  {
   "cell_type": "code",
   "execution_count": 25,
   "id": "70cfcac5-0c5b-4d38-a600-af99e6f0b048",
   "metadata": {},
   "outputs": [],
   "source": [
    "results_df$quart = 0\n",
    "for (i in c(1:nrow(results_df))) {\n",
    "    ds = drop(results_df[i,]$dataset)\n",
    "    quant25 = drop(filter(quantiles_df, dataset==ds)$quant25)\n",
    "    quant50 = drop(filter(quantiles_df, dataset==ds)$quant50)\n",
    "    quant75 = drop(filter(quantiles_df, dataset==ds)$quant75)\n",
    "    user_avg <- drop(results_df[i,]$avg)\n",
    "    if (user_avg < quant25) {\n",
    "        results_df[i,]$quart = 1\n",
    "    } else if (between(user_avg, quant25, quant50)) {\n",
    "        results_df[i,]$quart = 2\n",
    "    } else if (between(user_avg, quant50, quant75)) {\n",
    "        results_df[i,]$quart = 3\n",
    "    } else {\n",
    "        results_df[i,]$quart = 4\n",
    "    }\n",
    "}"
   ]
  },
  {
   "cell_type": "code",
   "execution_count": 26,
   "id": "17be5e94-6f41-480b-a7b9-6eb6de19ba2f",
   "metadata": {},
   "outputs": [],
   "source": [
    "results_df$sq_error = (results_df$avg - results_df$estimated)^2"
   ]
  },
  {
   "cell_type": "code",
   "execution_count": 27,
   "id": "59c3ebcd-f46a-4334-b53c-062e55046d5a",
   "metadata": {},
   "outputs": [
    {
     "name": "stderr",
     "output_type": "stream",
     "text": [
      "`summarise()` has grouped output by 'dataset', 'method'. You can override using the `.groups` argument.\n",
      "\n"
     ]
    }
   ],
   "source": [
    "graphed_df = group_by(results_df, dataset, method, quart) %>% summarize(avg = mean(avg), mse = mean(sq_error))"
   ]
  },
  {
   "cell_type": "code",
   "execution_count": 30,
   "id": "272f0fc3-be1f-4938-add9-cb63ee18a507",
   "metadata": {},
   "outputs": [
    {
     "data": {
      "image/png": "[encoded data removed]",
      "text/plain": [
       "plot without title"
      ]
     },
     "metadata": {
      "image/png": {
       "height": 420,
       "width": 420
      }
     },
     "output_type": "display_data"
    }
   ],
   "source": [
    "ggplot(graphed_df) + \n",
    "    geom_bar(aes(x=method,y=mse), stat='identity') +\n",
    "    facet_grid(rows = vars(dataset), cols=vars(quart)) +\n",
    "    scale_y_continuous(name=\"mse\", limits=c(0, 2))"
   ]
  },
  {
   "cell_type": "code",
   "execution_count": 144,
   "id": "fb3af6fc-5bf8-4377-ae5c-2cfd17be9823",
   "metadata": {},
   "outputs": [
    {
     "data": {
      "text/html": [
       "<table class=\"dataframe\">\n",
       "<caption>A tibble: 1 × 4</caption>\n",
       "<thead>\n",
       "\t<tr><th scope=col>dataset</th><th scope=col>quant25</th><th scope=col>quant50</th><th scope=col>quant75</th></tr>\n",
       "\t<tr><th scope=col>&lt;chr&gt;</th><th scope=col>&lt;dbl&gt;</th><th scope=col>&lt;dbl&gt;</th><th scope=col>&lt;dbl&gt;</th></tr>\n",
       "</thead>\n",
       "<tbody>\n",
       "\t<tr><td>c_out</td><td>3.8</td><td>4.15</td><td>4.3</td></tr>\n",
       "</tbody>\n",
       "</table>\n"
      ],
      "text/latex": [
       "A tibble: 1 × 4\n",
       "\\begin{tabular}{llll}\n",
       " dataset & quant25 & quant50 & quant75\\\\\n",
       " <chr> & <dbl> & <dbl> & <dbl>\\\\\n",
       "\\hline\n",
       "\t c\\_out & 3.8 & 4.15 & 4.3\\\\\n",
       "\\end{tabular}\n"
      ],
      "text/markdown": [
       "\n",
       "A tibble: 1 × 4\n",
       "\n",
       "| dataset &lt;chr&gt; | quant25 &lt;dbl&gt; | quant50 &lt;dbl&gt; | quant75 &lt;dbl&gt; |\n",
       "|---|---|---|---|\n",
       "| c_out | 3.8 | 4.15 | 4.3 |\n",
       "\n"
      ],
      "text/plain": [
       "  dataset quant25 quant50 quant75\n",
       "1 c_out   3.8     4.15    4.3    "
      ]
     },
     "metadata": {},
     "output_type": "display_data"
    }
   ],
   "source": [
    "ggplot(results_df) + \n",
    "    geom_bar(aes(x=quart,y=sq_error), stat='identity') +\n",
    "    facet_grid(rows = vars(num_train), cols=vars(method)) +\n",
    "    scale_y_continuous(name=\"mean distance\", limits=c(0, 1))"
   ]
  },
  {
   "cell_type": "code",
   "execution_count": 142,
   "id": "6180818e-43bf-4ac6-944b-cd3e7ac4a1bf",
   "metadata": {},
   "outputs": [
    {
     "data": {
      "text/plain": [
       "\n",
       "(3.25,3.91] (3.91,4.58] (4.58,5.24]  (5.24,5.9] \n",
       "         62          44           6           6 "
      ]
     },
     "metadata": {},
     "output_type": "display_data"
    }
   ],
   "source": [
    "table(cut(results_df$avg, b = 4))"
   ]
  },
  {
   "cell_type": "code",
   "execution_count": null,
   "id": "1921b323-2d58-4315-8a98-dff3c51fdec0",
   "metadata": {},
   "outputs": [],
   "source": []
  }
 ],
 "metadata": {
  "kernelspec": {
   "display_name": "R",
   "language": "R",
   "name": "ir"
  },
  "language_info": {
   "codemirror_mode": "r",
   "file_extension": ".r",
   "mimetype": "text/x-r-source",
   "name": "R",
   "pygments_lexer": "r",
   "version": "4.1.1"
  }
 },
 "nbformat": 4,
 "nbformat_minor": 5
}
